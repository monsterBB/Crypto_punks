{
 "cells": [
  {
   "cell_type": "code",
   "execution_count": 1,
   "metadata": {},
   "outputs": [],
   "source": [
    "import urllib\n",
    "from bs4 import BeautifulSoup\n",
    "\n",
    "def take_page(self, url_page):\n",
    "    req = urllib.request.Request(\n",
    "        url_page,\n",
    "        data=None\n",
    "    )\n",
    "    f = urllib.request.urlopen(req)\n",
    "    page = f.read().decode('utf-8')\n",
    "    self.page = page"
   ]
  },
  {
   "cell_type": "code",
   "execution_count": null,
   "metadata": {},
   "outputs": [],
   "source": [
    "import json\n",
    "\n",
    "def take_image(self):\n",
    "    soup = BeautifulSoup(self.page, 'html.parser')\n",
    "    img_div = soup.find(id=\"imgTagWrapperId\")\n",
    "\n",
    "    imgs_str = img_div.img.get('data-a-dynamic-image')  # a string in Json format\n",
    "\n",
    "    # convert to a dictionary\n",
    "    imgs_dict = json.loads(imgs_str)\n",
    "    #each key in the dictionary is a link of an image, and the value shows the size (print all the dictionay to inspect)\n",
    "    num_element = 0 \n",
    "    first_link = list(imgs_dict.keys())[num_element]\n",
    "    return first_link"
   ]
  }
 ],
 "metadata": {
  "kernelspec": {
   "display_name": "Python 3",
   "language": "python",
   "name": "python3"
  },
  "language_info": {
   "codemirror_mode": {
    "name": "ipython",
    "version": 3
   },
   "file_extension": ".py",
   "mimetype": "text/x-python",
   "name": "python",
   "nbconvert_exporter": "python",
   "pygments_lexer": "ipython3",
   "version": "3.7.6"
  }
 },
 "nbformat": 4,
 "nbformat_minor": 4
}
