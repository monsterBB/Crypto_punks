{
 "cells": [
  {
   "cell_type": "code",
   "execution_count": 1,
   "metadata": {},
   "outputs": [],
   "source": [
    "import os\n",
    "from selenium import webdriver\n",
    "from selenium.webdriver.common.keys import Keys\n",
    "from bs4 import BeautifulSoup\n",
    "from PIL import Image\n",
    "import requests\n",
    "import datetime\n",
    "import re\n",
    "import time\n",
    "import urllib\n",
    "from urllib.request import Request, urlopen\n",
    "import pandas as pd\n",
    "import numpy as np\n",
    "\n",
    "url = \"https://www.larvalabs.com/cryptopunks/forsale\"\n",
    "hdr = {'User-Agent': 'Mozilla/5.0'}"
   ]
  },
  {
   "cell_type": "code",
   "execution_count": 2,
   "metadata": {},
   "outputs": [],
   "source": [
    "web_r = requests.get(url)\n",
    "websoup = BeautifulSoup(web_r.text, \"html.parser\")\n",
    "\n",
    "#req = Request(url,headers=hdr)\n",
    "#web_r = urlopen(req)\n",
    "#selsoup = BeautifulSoup(web_r, \"html.parser\")"
   ]
  },
  {
   "cell_type": "code",
   "execution_count": 133,
   "metadata": {},
   "outputs": [
    {
     "data": {
      "text/plain": [
       "9"
      ]
     },
     "execution_count": 133,
     "metadata": {},
     "output_type": "execute_result"
    }
   ],
   "source": [
    "filename = \"bids_link.csv\"\n",
    "f = open(filename, 'w')\n",
    "\n",
    "headers = \"linkname\\n\"\n",
    "f.write(headers)"
   ]
  },
  {
   "cell_type": "code",
   "execution_count": 134,
   "metadata": {},
   "outputs": [],
   "source": [
    "for titlesoup in websoup.findAll(\"div\",{\"class\":\"col-md-1 col-sm-2 col-xs-3 punk-image-container-dense\"}):\n",
    "    for name in titlesoup.findAll(\"a\",href = re.compile(\"^(/cryptopunks/)\")):\n",
    "            linkname = 'https://www.larvalabs.com'+ name.attrs['href']\n",
    "            f.write(linkname + \"\\n\")\n",
    "f.close()"
   ]
  },
  {
   "cell_type": "code",
   "execution_count": 2,
   "metadata": {},
   "outputs": [],
   "source": [
    "#read csv\n",
    "saleslinks = pd.read_csv(\"bids_link.csv\")"
   ]
  },
  {
   "cell_type": "code",
   "execution_count": 4,
   "metadata": {},
   "outputs": [
    {
     "data": {
      "text/html": [
       "<div>\n",
       "<style scoped>\n",
       "    .dataframe tbody tr th:only-of-type {\n",
       "        vertical-align: middle;\n",
       "    }\n",
       "\n",
       "    .dataframe tbody tr th {\n",
       "        vertical-align: top;\n",
       "    }\n",
       "\n",
       "    .dataframe thead th {\n",
       "        text-align: right;\n",
       "    }\n",
       "</style>\n",
       "<table border=\"1\" class=\"dataframe\">\n",
       "  <thead>\n",
       "    <tr style=\"text-align: right;\">\n",
       "      <th></th>\n",
       "      <th>linkname</th>\n",
       "    </tr>\n",
       "  </thead>\n",
       "  <tbody>\n",
       "    <tr>\n",
       "      <th>0</th>\n",
       "      <td>https://www.larvalabs.com/cryptopunks/details/...</td>\n",
       "    </tr>\n",
       "    <tr>\n",
       "      <th>1</th>\n",
       "      <td>https://www.larvalabs.com/cryptopunks/details/249</td>\n",
       "    </tr>\n",
       "    <tr>\n",
       "      <th>2</th>\n",
       "      <td>https://www.larvalabs.com/cryptopunks/details/...</td>\n",
       "    </tr>\n",
       "    <tr>\n",
       "      <th>3</th>\n",
       "      <td>https://www.larvalabs.com/cryptopunks/details/...</td>\n",
       "    </tr>\n",
       "    <tr>\n",
       "      <th>4</th>\n",
       "      <td>https://www.larvalabs.com/cryptopunks/details/...</td>\n",
       "    </tr>\n",
       "  </tbody>\n",
       "</table>\n",
       "</div>"
      ],
      "text/plain": [
       "                                            linkname\n",
       "0  https://www.larvalabs.com/cryptopunks/details/...\n",
       "1  https://www.larvalabs.com/cryptopunks/details/249\n",
       "2  https://www.larvalabs.com/cryptopunks/details/...\n",
       "3  https://www.larvalabs.com/cryptopunks/details/...\n",
       "4  https://www.larvalabs.com/cryptopunks/details/..."
      ]
     },
     "execution_count": 4,
     "metadata": {},
     "output_type": "execute_result"
    }
   ],
   "source": [
    "saleslinks.head()"
   ]
  },
  {
   "cell_type": "code",
   "execution_count": 3,
   "metadata": {},
   "outputs": [],
   "source": [
    "#import matplotlib.pyplot as plt\n",
    "for titlesoup in websoup.findAll(\"div\",{\"class\":\"col-md-1 col-sm-2 col-xs-3 punk-image-container-dense\"}):\n",
    "    for link in titlesoup.findAll(\"img\", src=True):\n",
    "        filename = link[\"alt\"]\n",
    "        img_link = 'https://www.larvalabs.com'+ link[\"src\"].split(\"src=\")[-1]\n",
    "        img = Image.open(requests.get(img_link, stream = True).raw)\n",
    "        img.save('%s.png' % filename)"
   ]
  }
 ],
 "metadata": {
  "kernelspec": {
   "display_name": "Python 3",
   "language": "python",
   "name": "python3"
  },
  "language_info": {
   "codemirror_mode": {
    "name": "ipython",
    "version": 3
   },
   "file_extension": ".py",
   "mimetype": "text/x-python",
   "name": "python",
   "nbconvert_exporter": "python",
   "pygments_lexer": "ipython3",
   "version": "3.7.6"
  }
 },
 "nbformat": 4,
 "nbformat_minor": 4
}
